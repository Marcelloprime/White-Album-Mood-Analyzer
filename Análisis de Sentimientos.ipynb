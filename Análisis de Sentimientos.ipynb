{
 "cells": [
  {
   "cell_type": "markdown",
   "source": [
    "# Análisis de sentimientos de White Album\n",
    "\n",
    "En esta ocasión, nos tocó hacer un análisis de sentimientos del famoso álbum \"The Beatles\" de la banda británica con el mismo nombre.\n",
    "Bajo las tensiones de unos beatles ya forjando distintos caminos, la aparición de Yoko Ono y la influencia de la cultura hindú nace el conocido \"White Album\", mostrándo el lado más creativo y vanguardista de cada Beatle por separado con la química instrumental que los caracteriza.\n",
    "\n",
    "En el presente proyecto, se empezará desde la extracción de datos hasta la muestra gráfica e identificación de las palabras."
   ],
   "metadata": {
    "collapsed": false
   },
   "id": "4f50a158d34f73c"
  },
  {
   "cell_type": "markdown",
   "source": [
    "## Web Scraping: Canción por Canción\n",
    "\n",
    "El álbum consta de 30 canciones compuestas por cada miembro de la banda: John, Paul, George y Ringo.\n",
    "Para hacer el web scraping, utilizaremos la famosa web [Genius](www.genius.com).\n",
    "Lo primero que haremos es establecer conexión con la página para obtener el HTML."
   ],
   "metadata": {
    "collapsed": false
   },
   "id": "d140a40512a89692"
  },
  {
   "cell_type": "code",
   "execution_count": 13,
   "outputs": [],
   "source": [
    "import requests\n",
    "from bs4 import BeautifulSoup\n",
    "\n",
    "url = 'https://genius.com/albums/The-beatles/The-beatles-white-album'\n",
    "response = requests.get(url)\n",
    "soup = BeautifulSoup(response.text, 'html.parser')\n"
   ],
   "metadata": {
    "collapsed": false,
    "ExecuteTime": {
     "end_time": "2024-02-24T21:54:57.598732700Z",
     "start_time": "2024-02-24T21:54:56.831456Z"
    }
   },
   "id": "dcfa22e12e8705ec"
  },
  {
   "cell_type": "markdown",
   "source": [
    "Luego de establecer la conexión, obtenemos los enlaces de cada canción."
   ],
   "metadata": {
    "collapsed": false
   },
   "id": "5ab4700f59bd42a1"
  },
  {
   "cell_type": "code",
   "execution_count": 39,
   "outputs": [],
   "source": [
    "links = soup.find_all('a',class_ = \"u-display_block\", href=True)\n",
    "enlaces = []\n",
    "for link in links:\n",
    "    enlaces.append(link['href'])"
   ],
   "metadata": {
    "collapsed": false,
    "ExecuteTime": {
     "end_time": "2024-02-24T22:08:53.561230400Z",
     "start_time": "2024-02-24T22:08:53.550669300Z"
    }
   },
   "id": "c5fe72ae80c9ddbf"
  },
  {
   "cell_type": "code",
   "execution_count": 40,
   "outputs": [
    {
     "data": {
      "text/plain": "['https://genius.com/The-beatles-back-in-the-ussr-lyrics',\n 'https://genius.com/The-beatles-dear-prudence-lyrics',\n 'https://genius.com/The-beatles-glass-onion-lyrics',\n 'https://genius.com/The-beatles-ob-la-di-ob-la-da-lyrics',\n 'https://genius.com/The-beatles-wild-honey-pie-lyrics',\n 'https://genius.com/The-beatles-the-continuing-story-of-bungalow-bill-lyrics',\n 'https://genius.com/The-beatles-while-my-guitar-gently-weeps-lyrics',\n 'https://genius.com/The-beatles-happiness-is-a-warm-gun-lyrics',\n 'https://genius.com/The-beatles-martha-my-dear-lyrics',\n 'https://genius.com/The-beatles-im-so-tired-lyrics',\n 'https://genius.com/The-beatles-blackbird-lyrics',\n 'https://genius.com/The-beatles-piggies-lyrics',\n 'https://genius.com/The-beatles-rocky-raccoon-lyrics',\n 'https://genius.com/The-beatles-dont-pass-me-by-lyrics',\n 'https://genius.com/The-beatles-why-dont-we-do-it-in-the-road-lyrics',\n 'https://genius.com/The-beatles-i-will-lyrics',\n 'https://genius.com/The-beatles-julia-lyrics',\n 'https://genius.com/The-beatles-birthday-lyrics',\n 'https://genius.com/The-beatles-yer-blues-lyrics',\n 'https://genius.com/The-beatles-mother-natures-son-lyrics',\n 'https://genius.com/The-beatles-everybodys-got-something-to-hide-except-me-and-my-monkey-lyrics',\n 'https://genius.com/The-beatles-sexy-sadie-lyrics',\n 'https://genius.com/The-beatles-helter-skelter-lyrics',\n 'https://genius.com/The-beatles-long-long-long-lyrics',\n 'https://genius.com/The-beatles-revolution-1-lyrics',\n 'https://genius.com/The-beatles-honey-pie-lyrics',\n 'https://genius.com/The-beatles-savoy-truffle-lyrics',\n 'https://genius.com/The-beatles-cry-baby-cry-lyrics',\n 'https://genius.com/The-beatles-revolution-9-lyrics',\n 'https://genius.com/The-beatles-good-night-lyrics']"
     },
     "execution_count": 40,
     "metadata": {},
     "output_type": "execute_result"
    }
   ],
   "source": [
    "enlaces"
   ],
   "metadata": {
    "collapsed": false,
    "ExecuteTime": {
     "end_time": "2024-02-24T22:08:59.486310500Z",
     "start_time": "2024-02-24T22:08:59.476063900Z"
    }
   },
   "id": "b71a8d51069b366c"
  }
 ],
 "metadata": {
  "kernelspec": {
   "display_name": "Python 3",
   "language": "python",
   "name": "python3"
  },
  "language_info": {
   "codemirror_mode": {
    "name": "ipython",
    "version": 2
   },
   "file_extension": ".py",
   "mimetype": "text/x-python",
   "name": "python",
   "nbconvert_exporter": "python",
   "pygments_lexer": "ipython2",
   "version": "2.7.6"
  }
 },
 "nbformat": 4,
 "nbformat_minor": 5
}
