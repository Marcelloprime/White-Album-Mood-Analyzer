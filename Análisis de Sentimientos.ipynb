{
 "cells": [
  {
   "cell_type": "markdown",
   "source": [
    "# Análisis de sentimientos de White Album\n",
    "\n",
    "En esta ocasión, nos tocó hacer un análisis de sentimientos del famoso álbum \"The Beatles\" de la banda británica con el mismo nombre.\n",
    "Bajo las tensiones de unos beatles ya forjando distintos caminos, la aparición de Yoko Ono y la influencia de la cultura hindú nace el conocido \"White Album\", mostrándo el lado más creativo y vanguardista de cada Beatle por separado con la química instrumental que los caracteriza.\n",
    "\n",
    "En el presente proyecto, se empezará desde la extracción de datos hasta la muestra gráfica e identificación de las palabras."
   ],
   "metadata": {
    "collapsed": false
   },
   "id": "4f50a158d34f73c"
  },
  {
   "cell_type": "markdown",
   "source": [
    "## Web Scraping: Canción por Canción\n",
    "\n",
    "El álbum consta de 30 canciones compuestas por cada miembro de la banda: John, Paul, George y Ringo.\n",
    "Para hacer el web scraping, utilizaremos la famosa web [Genius](www.genius.com).\n",
    "Lo primero que haremos es establecer conexión con la página para obtener el HTML."
   ],
   "metadata": {
    "collapsed": false
   },
   "id": "d140a40512a89692"
  },
  {
   "cell_type": "markdown",
   "source": [
    "!(https://upload.wikimedia.org/wikipedia/en/f/f2/White_album_front2.jpg)"
   ],
   "metadata": {
    "collapsed": false
   },
   "id": "2ab02e943d0472d7"
  },
  {
   "cell_type": "code",
   "execution_count": 3,
   "outputs": [],
   "source": [
    "import pandas as pd\n",
    "import requests\n",
    "from bs4 import BeautifulSoup\n",
    "\n",
    "url = 'https://genius.com/albums/The-beatles/The-beatles-white-album'\n",
    "response = requests.get(url)\n",
    "soup = BeautifulSoup(response.text, 'html.parser')\n"
   ],
   "metadata": {
    "collapsed": false,
    "ExecuteTime": {
     "end_time": "2024-02-25T16:44:21.037111800Z",
     "start_time": "2024-02-25T16:44:17.078867600Z"
    }
   },
   "id": "dcfa22e12e8705ec"
  },
  {
   "cell_type": "markdown",
   "source": [
    "Luego de establecer la conexión, obtenemos los enlaces de cada canción."
   ],
   "metadata": {
    "collapsed": false
   },
   "id": "5ab4700f59bd42a1"
  },
  {
   "cell_type": "code",
   "execution_count": 4,
   "outputs": [],
   "source": [
    "links = soup.find_all('a',class_ = \"u-display_block\", href=True)\n",
    "enlaces = []\n",
    "for link in links:\n",
    "    enlaces.append(link['href'])"
   ],
   "metadata": {
    "collapsed": false,
    "ExecuteTime": {
     "end_time": "2024-02-25T16:44:25.476592800Z",
     "start_time": "2024-02-25T16:44:25.460616800Z"
    }
   },
   "id": "c5fe72ae80c9ddbf"
  },
  {
   "cell_type": "code",
   "execution_count": 5,
   "outputs": [
    {
     "data": {
      "text/plain": "['https://genius.com/The-beatles-back-in-the-ussr-lyrics',\n 'https://genius.com/The-beatles-dear-prudence-lyrics',\n 'https://genius.com/The-beatles-glass-onion-lyrics',\n 'https://genius.com/The-beatles-ob-la-di-ob-la-da-lyrics',\n 'https://genius.com/The-beatles-wild-honey-pie-lyrics',\n 'https://genius.com/The-beatles-the-continuing-story-of-bungalow-bill-lyrics',\n 'https://genius.com/The-beatles-while-my-guitar-gently-weeps-lyrics',\n 'https://genius.com/The-beatles-happiness-is-a-warm-gun-lyrics',\n 'https://genius.com/The-beatles-martha-my-dear-lyrics',\n 'https://genius.com/The-beatles-im-so-tired-lyrics',\n 'https://genius.com/The-beatles-blackbird-lyrics',\n 'https://genius.com/The-beatles-piggies-lyrics',\n 'https://genius.com/The-beatles-rocky-raccoon-lyrics',\n 'https://genius.com/The-beatles-dont-pass-me-by-lyrics',\n 'https://genius.com/The-beatles-why-dont-we-do-it-in-the-road-lyrics',\n 'https://genius.com/The-beatles-i-will-lyrics',\n 'https://genius.com/The-beatles-julia-lyrics',\n 'https://genius.com/The-beatles-birthday-lyrics',\n 'https://genius.com/The-beatles-yer-blues-lyrics',\n 'https://genius.com/The-beatles-mother-natures-son-lyrics',\n 'https://genius.com/The-beatles-everybodys-got-something-to-hide-except-me-and-my-monkey-lyrics',\n 'https://genius.com/The-beatles-sexy-sadie-lyrics',\n 'https://genius.com/The-beatles-helter-skelter-lyrics',\n 'https://genius.com/The-beatles-long-long-long-lyrics',\n 'https://genius.com/The-beatles-revolution-1-lyrics',\n 'https://genius.com/The-beatles-honey-pie-lyrics',\n 'https://genius.com/The-beatles-savoy-truffle-lyrics',\n 'https://genius.com/The-beatles-cry-baby-cry-lyrics',\n 'https://genius.com/The-beatles-revolution-9-lyrics',\n 'https://genius.com/The-beatles-good-night-lyrics']"
     },
     "execution_count": 5,
     "metadata": {},
     "output_type": "execute_result"
    }
   ],
   "source": [
    "enlaces"
   ],
   "metadata": {
    "collapsed": false,
    "ExecuteTime": {
     "end_time": "2024-02-25T16:44:28.396178100Z",
     "start_time": "2024-02-25T16:44:28.373257900Z"
    }
   },
   "id": "b71a8d51069b366c"
  },
  {
   "cell_type": "markdown",
   "source": [
    "Después de tener todos los enlaces, definiremos la función `lyrics()`, la cual hará un web scraping de cada enlace obtenido anteriormente para extraer las letras de cada canción."
   ],
   "metadata": {
    "collapsed": false
   },
   "id": "40d56798b51bc10a"
  },
  {
   "cell_type": "code",
   "execution_count": 25,
   "outputs": [],
   "source": [
    "import re\n",
    "import string\n",
    "\n",
    "def lyrics(urls):\n",
    "    df = []\n",
    "    ls = []\n",
    "    titles = []\n",
    "    for url in urls:\n",
    "        response = requests.get(url)\n",
    "        soup = BeautifulSoup(response.text, 'html.parser')\n",
    "        text = soup.find_all('div', attrs= {\"class\":\"Lyrics__Container-sc-1ynbvzw-1 kUgSbL\"})\n",
    "        title = soup.find('span',attrs={'class':'SongHeaderdesktop__HiddenMask-sc-1effuo1-11 iMpFIj'}).get_text()\n",
    "        lyric = []\n",
    "        for t in text:\n",
    "            y = t.get_text(' ').lower()\n",
    "            lyric.append(re.sub(r'\\[.*?\\]', '', y))\n",
    "        lyric_s = [ly.replace('\\u200b', '').translate(str.maketrans('', '', string.punctuation)).replace('  ',' ').strip() for ly in lyric]\n",
    "        df.append(lyric_s)\n",
    "        titles.append(title)\n",
    "    for a in df:\n",
    "        ls.append(''.join(a))\n",
    "    data = pd.DataFrame({'Título':titles, 'Letra':ls})\n",
    "     \n",
    "    return data\n",
    "        "
   ],
   "metadata": {
    "collapsed": false,
    "ExecuteTime": {
     "end_time": "2024-02-25T17:11:11.305738600Z",
     "start_time": "2024-02-25T17:11:11.291506600Z"
    }
   },
   "id": "91719b84713c807c"
  },
  {
   "cell_type": "code",
   "execution_count": 26,
   "outputs": [],
   "source": [
    "resultados = lyrics(enlaces) # Almacenamos los resultados"
   ],
   "metadata": {
    "collapsed": false,
    "ExecuteTime": {
     "end_time": "2024-02-25T17:12:09.140377900Z",
     "start_time": "2024-02-25T17:11:12.874068600Z"
    }
   },
   "id": "c272e1b24c83dcd8"
  },
  {
   "cell_type": "code",
   "execution_count": 34,
   "outputs": [],
   "source": [
    "resultados.to_csv('lyrics_white_album.csv')"
   ],
   "metadata": {
    "collapsed": false,
    "ExecuteTime": {
     "end_time": "2024-02-25T17:27:49.708689800Z",
     "start_time": "2024-02-25T17:27:49.689721Z"
    }
   },
   "id": "2e2a769f7789729a"
  },
  {
   "cell_type": "code",
   "execution_count": null,
   "outputs": [],
   "source": [],
   "metadata": {
    "collapsed": false
   },
   "id": "a8192b15cd94b694"
  }
 ],
 "metadata": {
  "kernelspec": {
   "display_name": "Python 3",
   "language": "python",
   "name": "python3"
  },
  "language_info": {
   "codemirror_mode": {
    "name": "ipython",
    "version": 2
   },
   "file_extension": ".py",
   "mimetype": "text/x-python",
   "name": "python",
   "nbconvert_exporter": "python",
   "pygments_lexer": "ipython2",
   "version": "2.7.6"
  }
 },
 "nbformat": 4,
 "nbformat_minor": 5
}
