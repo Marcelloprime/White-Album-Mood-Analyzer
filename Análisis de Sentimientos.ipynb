{
 "cells": [
  {
   "cell_type": "markdown",
   "source": [
    "# Análisis de sentimientos de White Album\n",
    "\n",
    "En esta ocasión, nos tocó hacer un análisis de sentimientos del famoso álbum \"The Beatles\" de la banda británica con el mismo nombre.\n",
    "Bajo las tensiones de unos beatles ya forjando distintos caminos, la aparición de Yoko Ono y la influencia de la cultura hindú nace el conocido \"White Album\", mostrándo el lado más creativo y vanguardista de cada Beatle por separado con la química instrumental que los caracteriza.\n",
    "\n",
    "En el presente proyecto, se empezará desde la extracción de datos hasta la muestra gráfica e identificación de las palabras."
   ],
   "metadata": {
    "collapsed": false
   },
   "id": "4f50a158d34f73c"
  },
  {
   "cell_type": "markdown",
   "source": [
    "## Web Scraping: Canción por Canción\n",
    "\n",
    "El álbum consta de 30 canciones compuestas por cada miembro de la banda: John, Paul, George y Ringo.\n",
    "Para hacer el web scraping, utilizaremos la famosa web Genius.\n",
    "Lo primero que haremos es establecer conexión con la página para obtener el HTML."
   ],
   "metadata": {
    "collapsed": false
   },
   "id": "d140a40512a89692"
  },
  {
   "cell_type": "markdown",
   "source": [
    "![\"The Beatles\"](https://upload.wikimedia.org/wikipedia/en/f/f2/White_album_front2.jpg)"
   ],
   "metadata": {
    "collapsed": false
   },
   "id": "2ab02e943d0472d7"
  },
  {
   "cell_type": "code",
   "execution_count": 12,
   "outputs": [],
   "source": [
    "import pandas as pd\n",
    "import requests\n",
    "from bs4 import BeautifulSoup\n",
    "\n",
    "url = 'https://genius.com/albums/The-beatles/The-beatles-white-album'\n",
    "response = requests.get(url)\n",
    "soup = BeautifulSoup(response.text, 'html.parser')\n"
   ],
   "metadata": {
    "collapsed": false,
    "ExecuteTime": {
     "end_time": "2024-03-02T05:28:40.629384Z",
     "start_time": "2024-03-02T05:28:39.560247Z"
    }
   },
   "id": "dcfa22e12e8705ec"
  },
  {
   "cell_type": "markdown",
   "source": [
    "Luego de establecer la conexión, obtenemos los enlaces de cada canción."
   ],
   "metadata": {
    "collapsed": false
   },
   "id": "5ab4700f59bd42a1"
  },
  {
   "cell_type": "code",
   "execution_count": 13,
   "outputs": [],
   "source": [
    "links = soup.find_all('a',class_ = \"u-display_block\", href=True)\n",
    "enlaces = []\n",
    "for link in links:\n",
    "    enlaces.append(link['href'])"
   ],
   "metadata": {
    "collapsed": false,
    "ExecuteTime": {
     "end_time": "2024-03-02T05:28:43.058431Z",
     "start_time": "2024-03-02T05:28:43.050894Z"
    }
   },
   "id": "c5fe72ae80c9ddbf"
  },
  {
   "cell_type": "code",
   "execution_count": 14,
   "outputs": [
    {
     "data": {
      "text/plain": "['https://genius.com/The-beatles-back-in-the-ussr-lyrics',\n 'https://genius.com/The-beatles-dear-prudence-lyrics',\n 'https://genius.com/The-beatles-glass-onion-lyrics',\n 'https://genius.com/The-beatles-ob-la-di-ob-la-da-lyrics',\n 'https://genius.com/The-beatles-wild-honey-pie-lyrics',\n 'https://genius.com/The-beatles-the-continuing-story-of-bungalow-bill-lyrics',\n 'https://genius.com/The-beatles-while-my-guitar-gently-weeps-lyrics',\n 'https://genius.com/The-beatles-happiness-is-a-warm-gun-lyrics',\n 'https://genius.com/The-beatles-martha-my-dear-lyrics',\n 'https://genius.com/The-beatles-im-so-tired-lyrics',\n 'https://genius.com/The-beatles-blackbird-lyrics',\n 'https://genius.com/The-beatles-piggies-lyrics',\n 'https://genius.com/The-beatles-rocky-raccoon-lyrics',\n 'https://genius.com/The-beatles-dont-pass-me-by-lyrics',\n 'https://genius.com/The-beatles-why-dont-we-do-it-in-the-road-lyrics',\n 'https://genius.com/The-beatles-i-will-lyrics',\n 'https://genius.com/The-beatles-julia-lyrics',\n 'https://genius.com/The-beatles-birthday-lyrics',\n 'https://genius.com/The-beatles-yer-blues-lyrics',\n 'https://genius.com/The-beatles-mother-natures-son-lyrics',\n 'https://genius.com/The-beatles-everybodys-got-something-to-hide-except-me-and-my-monkey-lyrics',\n 'https://genius.com/The-beatles-sexy-sadie-lyrics',\n 'https://genius.com/The-beatles-helter-skelter-lyrics',\n 'https://genius.com/The-beatles-long-long-long-lyrics',\n 'https://genius.com/The-beatles-revolution-1-lyrics',\n 'https://genius.com/The-beatles-honey-pie-lyrics',\n 'https://genius.com/The-beatles-savoy-truffle-lyrics',\n 'https://genius.com/The-beatles-cry-baby-cry-lyrics',\n 'https://genius.com/The-beatles-revolution-9-lyrics',\n 'https://genius.com/The-beatles-good-night-lyrics']"
     },
     "execution_count": 14,
     "metadata": {},
     "output_type": "execute_result"
    }
   ],
   "source": [
    "enlaces"
   ],
   "metadata": {
    "collapsed": false,
    "ExecuteTime": {
     "end_time": "2024-03-02T05:28:45.658446Z",
     "start_time": "2024-03-02T05:28:45.648603Z"
    }
   },
   "id": "b71a8d51069b366c"
  },
  {
   "cell_type": "markdown",
   "source": [
    "Después de tener todos los enlaces, definiremos la función `lyrics()`, la cual hará un web scraping de cada enlace obtenido anteriormente para extraer el nombre y la letra de cada canción en minúscula y listo para poder analizar las palabras."
   ],
   "metadata": {
    "collapsed": false
   },
   "id": "40d56798b51bc10a"
  },
  {
   "cell_type": "code",
   "execution_count": 15,
   "outputs": [],
   "source": [
    "import re\n",
    "import string\n",
    "\n",
    "def lyrics(urls):\n",
    "    df = []\n",
    "    ls = []\n",
    "    titles = []\n",
    "    for url in urls:\n",
    "        response = requests.get(url)\n",
    "        soup = BeautifulSoup(response.text, 'html.parser')\n",
    "        text = soup.find_all('div', attrs= {\"class\":\"Lyrics__Container-sc-1ynbvzw-1 kUgSbL\"})\n",
    "        title = soup.find('span',attrs={'class':'SongHeaderdesktop__HiddenMask-sc-1effuo1-11 iMpFIj'}).get_text()\n",
    "        lyric = []\n",
    "        for t in text:\n",
    "            y = t.get_text(' ').lower()\n",
    "            lyric.append(re.sub(r'\\[.*?\\]', '', y))\n",
    "        lyric_s = [ly.replace('\\u200b', '').translate(str.maketrans('', '', string.punctuation)).replace('  ',' ').strip() for ly in lyric]\n",
    "        df.append(lyric_s)\n",
    "        titles.append(title)\n",
    "    for a in df:\n",
    "        ls.append(''.join(a))\n",
    "    data = pd.DataFrame({'Título':titles, 'Letra':ls})\n",
    "     \n",
    "    return data\n",
    "        "
   ],
   "metadata": {
    "collapsed": false,
    "ExecuteTime": {
     "end_time": "2024-03-02T05:28:47.838029Z",
     "start_time": "2024-03-02T05:28:47.827245Z"
    }
   },
   "id": "91719b84713c807c"
  },
  {
   "cell_type": "code",
   "execution_count": 16,
   "outputs": [],
   "source": [
    "lyric = lyrics(enlaces) # Almacenamos los resultados\n",
    "lyric.to_csv('lyrics_white_album.csv') # Exportamos el CSV"
   ],
   "metadata": {
    "collapsed": false,
    "ExecuteTime": {
     "end_time": "2024-03-02T05:29:30.297843Z",
     "start_time": "2024-03-02T05:28:50.327896Z"
    }
   },
   "id": "c272e1b24c83dcd8"
  },
  {
   "cell_type": "code",
   "execution_count": 17,
   "outputs": [
    {
     "data": {
      "text/plain": "                                               Título  \\\n0                                Back in the U.S.S.R.   \n1                                       Dear Prudence   \n2                                         Glass Onion   \n3                                  Ob-La-Di, Ob-La-Da   \n4                                      Wild Honey Pie   \n5               The Continuing Story of Bungalow Bill   \n6                        While My Guitar Gently Weeps   \n7                             Happiness is a Warm Gun   \n8                                      Martha My Dear   \n9                                        I’m So Tired   \n10                                          Blackbird   \n11                                            Piggies   \n12                                      Rocky Raccoon   \n13                                   Don’t Pass Me By   \n14                    Why Don’t We Do It in the Road?   \n15                                             I Will   \n16                                              Julia   \n17                                           Birthday   \n18                                          Yer Blues   \n19                                Mother Nature’s Son   \n20  Everybody’s Got Something to Hide Except Me an...   \n21                                         Sexy Sadie   \n22                                     Helter Skelter   \n23                                   Long, Long, Long   \n24                                       Revolution 1   \n25                                          Honey Pie   \n26                                      Savoy Truffle   \n27                                       Cry Baby Cry   \n28                                       Revolution 9   \n29                                         Good Night   \n\n                                                Letra  \n0   oh flew in from miami beach boac didnt get to ...  \n1   dear prudence wont you come out to play dear p...  \n2   i told you about strawberry fields you know th...  \n3   desmond has a barrow in the marketplace molly ...  \n4   honey pie honey pie  honey pie honey pie  hone...  \n5   hey bungalow bill what did you kill bungalow b...  \n6   i look at you all see the love there thats sle...  \n7   shes not a girl who misses much do do do do do...  \n8   martha my dear though i spend my days in conve...  \n9   im so tired i havent slept a wink im so tired ...  \n10  blackbird singing in the dead of night take th...  \n11  have you seen the little piggies crawling in t...  \n12  now somewhere in the black mining hills of dak...  \n13  i listen for your footsteps coming up the driv...  \n14  why dont we ddo it in the road mm why dont we ...  \n15  who knows how long ive loved you you know i lo...  \n16  half of what i say is meaningless but i say it...  \n17  they say its your birthday well its my birthda...  \n18  two three yes im lonely want to die yes im lon...  \n19  born a poor young country boy mother natures s...  \n20  come on come on come on come on come on its su...  \n21  sexy sadie what have you done you made a fool ...  \n22  when i get to the bottom i go back to the top ...  \n23  its been a long long long time how could i eve...  \n24  take two okay you say you want a revolution we...  \n25  she was a working girl north of england way no...  \n26  creme tangerine and montelimar a ginger sling ...  \n27  cry baby cry make your mother sigh shes old en...  \n28  bottle of claret for you if id realised id for...  \n29  now its time to say good night good night slee...  ",
      "text/html": "<div>\n<style scoped>\n    .dataframe tbody tr th:only-of-type {\n        vertical-align: middle;\n    }\n\n    .dataframe tbody tr th {\n        vertical-align: top;\n    }\n\n    .dataframe thead th {\n        text-align: right;\n    }\n</style>\n<table border=\"1\" class=\"dataframe\">\n  <thead>\n    <tr style=\"text-align: right;\">\n      <th></th>\n      <th>Título</th>\n      <th>Letra</th>\n    </tr>\n  </thead>\n  <tbody>\n    <tr>\n      <th>0</th>\n      <td>Back in the U.S.S.R.</td>\n      <td>oh flew in from miami beach boac didnt get to ...</td>\n    </tr>\n    <tr>\n      <th>1</th>\n      <td>Dear Prudence</td>\n      <td>dear prudence wont you come out to play dear p...</td>\n    </tr>\n    <tr>\n      <th>2</th>\n      <td>Glass Onion</td>\n      <td>i told you about strawberry fields you know th...</td>\n    </tr>\n    <tr>\n      <th>3</th>\n      <td>Ob-La-Di, Ob-La-Da</td>\n      <td>desmond has a barrow in the marketplace molly ...</td>\n    </tr>\n    <tr>\n      <th>4</th>\n      <td>Wild Honey Pie</td>\n      <td>honey pie honey pie  honey pie honey pie  hone...</td>\n    </tr>\n    <tr>\n      <th>5</th>\n      <td>The Continuing Story of Bungalow Bill</td>\n      <td>hey bungalow bill what did you kill bungalow b...</td>\n    </tr>\n    <tr>\n      <th>6</th>\n      <td>While My Guitar Gently Weeps</td>\n      <td>i look at you all see the love there thats sle...</td>\n    </tr>\n    <tr>\n      <th>7</th>\n      <td>Happiness is a Warm Gun</td>\n      <td>shes not a girl who misses much do do do do do...</td>\n    </tr>\n    <tr>\n      <th>8</th>\n      <td>Martha My Dear</td>\n      <td>martha my dear though i spend my days in conve...</td>\n    </tr>\n    <tr>\n      <th>9</th>\n      <td>I’m So Tired</td>\n      <td>im so tired i havent slept a wink im so tired ...</td>\n    </tr>\n    <tr>\n      <th>10</th>\n      <td>Blackbird</td>\n      <td>blackbird singing in the dead of night take th...</td>\n    </tr>\n    <tr>\n      <th>11</th>\n      <td>Piggies</td>\n      <td>have you seen the little piggies crawling in t...</td>\n    </tr>\n    <tr>\n      <th>12</th>\n      <td>Rocky Raccoon</td>\n      <td>now somewhere in the black mining hills of dak...</td>\n    </tr>\n    <tr>\n      <th>13</th>\n      <td>Don’t Pass Me By</td>\n      <td>i listen for your footsteps coming up the driv...</td>\n    </tr>\n    <tr>\n      <th>14</th>\n      <td>Why Don’t We Do It in the Road?</td>\n      <td>why dont we ddo it in the road mm why dont we ...</td>\n    </tr>\n    <tr>\n      <th>15</th>\n      <td>I Will</td>\n      <td>who knows how long ive loved you you know i lo...</td>\n    </tr>\n    <tr>\n      <th>16</th>\n      <td>Julia</td>\n      <td>half of what i say is meaningless but i say it...</td>\n    </tr>\n    <tr>\n      <th>17</th>\n      <td>Birthday</td>\n      <td>they say its your birthday well its my birthda...</td>\n    </tr>\n    <tr>\n      <th>18</th>\n      <td>Yer Blues</td>\n      <td>two three yes im lonely want to die yes im lon...</td>\n    </tr>\n    <tr>\n      <th>19</th>\n      <td>Mother Nature’s Son</td>\n      <td>born a poor young country boy mother natures s...</td>\n    </tr>\n    <tr>\n      <th>20</th>\n      <td>Everybody’s Got Something to Hide Except Me an...</td>\n      <td>come on come on come on come on come on its su...</td>\n    </tr>\n    <tr>\n      <th>21</th>\n      <td>Sexy Sadie</td>\n      <td>sexy sadie what have you done you made a fool ...</td>\n    </tr>\n    <tr>\n      <th>22</th>\n      <td>Helter Skelter</td>\n      <td>when i get to the bottom i go back to the top ...</td>\n    </tr>\n    <tr>\n      <th>23</th>\n      <td>Long, Long, Long</td>\n      <td>its been a long long long time how could i eve...</td>\n    </tr>\n    <tr>\n      <th>24</th>\n      <td>Revolution 1</td>\n      <td>take two okay you say you want a revolution we...</td>\n    </tr>\n    <tr>\n      <th>25</th>\n      <td>Honey Pie</td>\n      <td>she was a working girl north of england way no...</td>\n    </tr>\n    <tr>\n      <th>26</th>\n      <td>Savoy Truffle</td>\n      <td>creme tangerine and montelimar a ginger sling ...</td>\n    </tr>\n    <tr>\n      <th>27</th>\n      <td>Cry Baby Cry</td>\n      <td>cry baby cry make your mother sigh shes old en...</td>\n    </tr>\n    <tr>\n      <th>28</th>\n      <td>Revolution 9</td>\n      <td>bottle of claret for you if id realised id for...</td>\n    </tr>\n    <tr>\n      <th>29</th>\n      <td>Good Night</td>\n      <td>now its time to say good night good night slee...</td>\n    </tr>\n  </tbody>\n</table>\n</div>"
     },
     "execution_count": 17,
     "metadata": {},
     "output_type": "execute_result"
    }
   ],
   "source": [
    "lyric"
   ],
   "metadata": {
    "collapsed": false,
    "ExecuteTime": {
     "end_time": "2024-03-02T05:29:52.554089Z",
     "start_time": "2024-03-02T05:29:52.536960Z"
    }
   },
   "id": "dca84b09fc154e25"
  },
  {
   "cell_type": "markdown",
   "source": [
    "## Creación de tokens\n",
    "\n",
    "Luego de terminar el proceso de extracción y limpieza de datos, debemos tokenizar cada texto para poder hacer un text mining, este consiste en separar las palabras para poder analizar estas."
   ],
   "metadata": {
    "collapsed": false
   },
   "id": "d11201bb18669c33"
  },
  {
   "cell_type": "markdown",
   "source": [],
   "metadata": {
    "collapsed": false
   },
   "id": "c378708b41c75fc"
  },
  {
   "cell_type": "code",
   "execution_count": 18,
   "outputs": [
    {
     "data": {
      "text/plain": "                 Título                                              Letra  \\\n0  Back in the U.S.S.R.  oh flew in from miami beach boac didnt get to ...   \n1         Dear Prudence  dear prudence wont you come out to play dear p...   \n2           Glass Onion  i told you about strawberry fields you know th...   \n3    Ob-La-Di, Ob-La-Da  desmond has a barrow in the marketplace molly ...   \n4        Wild Honey Pie  honey pie honey pie  honey pie honey pie  hone...   \n\n                                              Tokens  \n0  [oh, flew, in, from, miami, beach, boac, didnt...  \n1  [dear, prudence, wont, you, come, out, to, pla...  \n2  [i, told, you, about, strawberry, fields, you,...  \n3  [desmond, has, a, barrow, in, the, marketplace...  \n4  [honey, pie, honey, pie, honey, pie, honey, pi...  ",
      "text/html": "<div>\n<style scoped>\n    .dataframe tbody tr th:only-of-type {\n        vertical-align: middle;\n    }\n\n    .dataframe tbody tr th {\n        vertical-align: top;\n    }\n\n    .dataframe thead th {\n        text-align: right;\n    }\n</style>\n<table border=\"1\" class=\"dataframe\">\n  <thead>\n    <tr style=\"text-align: right;\">\n      <th></th>\n      <th>Título</th>\n      <th>Letra</th>\n      <th>Tokens</th>\n    </tr>\n  </thead>\n  <tbody>\n    <tr>\n      <th>0</th>\n      <td>Back in the U.S.S.R.</td>\n      <td>oh flew in from miami beach boac didnt get to ...</td>\n      <td>[oh, flew, in, from, miami, beach, boac, didnt...</td>\n    </tr>\n    <tr>\n      <th>1</th>\n      <td>Dear Prudence</td>\n      <td>dear prudence wont you come out to play dear p...</td>\n      <td>[dear, prudence, wont, you, come, out, to, pla...</td>\n    </tr>\n    <tr>\n      <th>2</th>\n      <td>Glass Onion</td>\n      <td>i told you about strawberry fields you know th...</td>\n      <td>[i, told, you, about, strawberry, fields, you,...</td>\n    </tr>\n    <tr>\n      <th>3</th>\n      <td>Ob-La-Di, Ob-La-Da</td>\n      <td>desmond has a barrow in the marketplace molly ...</td>\n      <td>[desmond, has, a, barrow, in, the, marketplace...</td>\n    </tr>\n    <tr>\n      <th>4</th>\n      <td>Wild Honey Pie</td>\n      <td>honey pie honey pie  honey pie honey pie  hone...</td>\n      <td>[honey, pie, honey, pie, honey, pie, honey, pi...</td>\n    </tr>\n  </tbody>\n</table>\n</div>"
     },
     "execution_count": 18,
     "metadata": {},
     "output_type": "execute_result"
    }
   ],
   "source": [
    "lyric['Tokens'] = [letra.split() for letra in lyric['Letra']]\n",
    "lyric.head(5)"
   ],
   "metadata": {
    "collapsed": false,
    "ExecuteTime": {
     "end_time": "2024-03-02T05:29:57.871945Z",
     "start_time": "2024-03-02T05:29:57.859013Z"
    }
   },
   "id": "c99a2c0e4034e698"
  },
  {
   "cell_type": "markdown",
   "source": [
    "## Obteniendo las Stopwords\n",
    "\n",
    "Tras haber obtenido los tokens, podemos observar que hay varias palabras que resultarán inútiles para el análisis, por ejemplo: 'and', 'oh', 'a', etc.\n",
    "Para entender mejor, las stopwords son aquellas palabras que son artículos, preposiciones o pronombres y no suman ninguna información esencial en el análisis.\n",
    "\n",
    "Gracias al paquete NLTK, tenemos stopwords para poder trabajar con textos en inglés."
   ],
   "metadata": {
    "collapsed": false
   },
   "id": "f9d9e6cce543fe03"
  },
  {
   "cell_type": "code",
   "execution_count": 19,
   "outputs": [
    {
     "name": "stderr",
     "output_type": "stream",
     "text": [
      "[nltk_data] Downloading package stopwords to\n",
      "[nltk_data]     C:\\Users\\maaf1\\AppData\\Roaming\\nltk_data...\n",
      "[nltk_data]   Unzipping corpora\\stopwords.zip.\n"
     ]
    },
    {
     "data": {
      "text/plain": "True"
     },
     "execution_count": 19,
     "metadata": {},
     "output_type": "execute_result"
    }
   ],
   "source": [
    "import nltk\n",
    "nltk.download('stopwords') # Descargamos las stopwords"
   ],
   "metadata": {
    "collapsed": false,
    "ExecuteTime": {
     "end_time": "2024-03-02T05:30:03.580399Z",
     "start_time": "2024-03-02T05:30:01.145685Z"
    }
   },
   "id": "dbce77943a3f12f3"
  },
  {
   "cell_type": "code",
   "execution_count": 20,
   "outputs": [],
   "source": [
    "from nltk.corpus import stopwords\n",
    "\n",
    "# Obtén las palabras vacías en inglés\n",
    "stop_words = list(stopwords.words('english'))\n",
    "stop_words = [re.sub(\"'\", '', x) for x in stop_words] # Debido a que quitamos todo signo de puntuación en las letras, acá tambien lo hacemos\n",
    "stop_words.extend(['oh','us','im','hey','yeah']) # Se agregan algunas stopwords según el contexto"
   ],
   "metadata": {
    "collapsed": false,
    "ExecuteTime": {
     "end_time": "2024-03-02T05:30:08.319443Z",
     "start_time": "2024-03-02T05:30:08.303681Z"
    }
   },
   "id": "fb6e593ae9455e1"
  },
  {
   "cell_type": "code",
   "execution_count": 21,
   "outputs": [
    {
     "data": {
      "text/plain": "                 Título                                              Letra  \\\n0  Back in the U.S.S.R.  oh flew in from miami beach boac didnt get to ...   \n1         Dear Prudence  dear prudence wont you come out to play dear p...   \n2           Glass Onion  i told you about strawberry fields you know th...   \n3    Ob-La-Di, Ob-La-Da  desmond has a barrow in the marketplace molly ...   \n4        Wild Honey Pie  honey pie honey pie  honey pie honey pie  hone...   \n\n                                              Tokens  \\\n0  [oh, flew, in, from, miami, beach, boac, didnt...   \n1  [dear, prudence, wont, you, come, out, to, pla...   \n2  [i, told, you, about, strawberry, fields, you,...   \n3  [desmond, has, a, barrow, in, the, marketplace...   \n4  [honey, pie, honey, pie, honey, pie, honey, pi...   \n\n                                  without_stop_words  \n0  [flew, miami, beach, boac, get, bed, last, nig...  \n1  [dear, prudence, come, play, dear, prudence, g...  \n2  [told, strawberry, fields, know, place, nothin...  \n3  [desmond, barrow, marketplace, molly, singer, ...  \n4  [honey, pie, honey, pie, honey, pie, honey, pi...  ",
      "text/html": "<div>\n<style scoped>\n    .dataframe tbody tr th:only-of-type {\n        vertical-align: middle;\n    }\n\n    .dataframe tbody tr th {\n        vertical-align: top;\n    }\n\n    .dataframe thead th {\n        text-align: right;\n    }\n</style>\n<table border=\"1\" class=\"dataframe\">\n  <thead>\n    <tr style=\"text-align: right;\">\n      <th></th>\n      <th>Título</th>\n      <th>Letra</th>\n      <th>Tokens</th>\n      <th>without_stop_words</th>\n    </tr>\n  </thead>\n  <tbody>\n    <tr>\n      <th>0</th>\n      <td>Back in the U.S.S.R.</td>\n      <td>oh flew in from miami beach boac didnt get to ...</td>\n      <td>[oh, flew, in, from, miami, beach, boac, didnt...</td>\n      <td>[flew, miami, beach, boac, get, bed, last, nig...</td>\n    </tr>\n    <tr>\n      <th>1</th>\n      <td>Dear Prudence</td>\n      <td>dear prudence wont you come out to play dear p...</td>\n      <td>[dear, prudence, wont, you, come, out, to, pla...</td>\n      <td>[dear, prudence, come, play, dear, prudence, g...</td>\n    </tr>\n    <tr>\n      <th>2</th>\n      <td>Glass Onion</td>\n      <td>i told you about strawberry fields you know th...</td>\n      <td>[i, told, you, about, strawberry, fields, you,...</td>\n      <td>[told, strawberry, fields, know, place, nothin...</td>\n    </tr>\n    <tr>\n      <th>3</th>\n      <td>Ob-La-Di, Ob-La-Da</td>\n      <td>desmond has a barrow in the marketplace molly ...</td>\n      <td>[desmond, has, a, barrow, in, the, marketplace...</td>\n      <td>[desmond, barrow, marketplace, molly, singer, ...</td>\n    </tr>\n    <tr>\n      <th>4</th>\n      <td>Wild Honey Pie</td>\n      <td>honey pie honey pie  honey pie honey pie  hone...</td>\n      <td>[honey, pie, honey, pie, honey, pie, honey, pi...</td>\n      <td>[honey, pie, honey, pie, honey, pie, honey, pi...</td>\n    </tr>\n  </tbody>\n</table>\n</div>"
     },
     "execution_count": 21,
     "metadata": {},
     "output_type": "execute_result"
    }
   ],
   "source": [
    "def eliminar_stopwords(lista): # Definimos la función 'eliminar_stopwords'\n",
    "    return list(filter(lambda x: x not in stop_words, lista))\n",
    "\n",
    "# Eliminar las stopwords de cada lista\n",
    "lyric['without_stop_words'] = list(map(eliminar_stopwords, lyric['Tokens']))\n",
    "lyric.head(5)"
   ],
   "metadata": {
    "collapsed": false,
    "ExecuteTime": {
     "end_time": "2024-03-02T05:30:11.156059Z",
     "start_time": "2024-03-02T05:30:11.119656Z"
    }
   },
   "id": "200ef6033190b787"
  },
  {
   "cell_type": "markdown",
   "source": [
    "## Gráfico de palabras más utilizadas por canción"
   ],
   "metadata": {
    "collapsed": false
   },
   "id": "88c72e8194ccf9a0"
  },
  {
   "cell_type": "code",
   "outputs": [
    {
     "name": "stdout",
     "output_type": "stream",
     "text": [
      "Palabras más comunes en la canción 'Back in the U.S.S.R.':\n",
      "back: 14\n",
      "ussr: 9\n",
      "oohoohooh: 6\n",
      "know: 4\n",
      "lucky: 4\n",
      "girls: 4\n",
      "ooh: 4\n",
      "leave: 3\n",
      "way: 2\n",
      "boy: 2\n",
      "\n",
      "Palabras más comunes en la canción 'Dear Prudence':\n",
      "round: 23\n",
      "prudence: 12\n",
      "dear: 11\n",
      "come: 4\n",
      "play: 4\n",
      "see: 4\n",
      "look: 3\n",
      "around: 3\n",
      "let: 3\n",
      "smile: 3\n",
      "\n",
      "Palabras más comunes en la canción 'Glass Onion':\n",
      "looking: 5\n",
      "glass: 4\n",
      "told: 3\n",
      "place: 3\n",
      "well: 3\n",
      "heres: 3\n",
      "another: 3\n",
      "onion: 3\n",
      "man: 3\n",
      "know: 2\n",
      "\n",
      "Palabras más comunes en la canción 'Ob-La-Di, Ob-La-Da':\n",
      "life: 16\n",
      "goes: 16\n",
      "ha: 11\n",
      "molly: 8\n",
      "obladi: 8\n",
      "oblada: 8\n",
      "brah: 8\n",
      "lala: 8\n",
      "desmond: 7\n",
      "home: 6\n",
      "\n",
      "Palabras más comunes en la canción 'Wild Honey Pie':\n",
      "honey: 9\n",
      "pie: 9\n",
      "love: 1\n",
      "\n",
      "Palabras más comunes en la canción 'The Continuing Story of Bungalow Bill':\n",
      "bungalow: 28\n",
      "bill: 28\n",
      "kill: 16\n",
      "children: 4\n",
      "tiger: 2\n",
      "sing: 2\n",
      "went: 1\n",
      "hunting: 1\n",
      "elephant: 1\n",
      "gun: 1\n",
      "\n",
      "Palabras más comunes en la canción 'While My Guitar Gently Weeps':\n",
      "look: 6\n",
      "guitar: 6\n",
      "gently: 6\n",
      "weeps: 6\n",
      "know: 4\n",
      "see: 3\n",
      "love: 3\n",
      "still: 3\n",
      "thats: 2\n",
      "sleeping: 2\n",
      "\n",
      "Palabras más comunes en la canción 'Happiness is a Warm Gun':\n",
      "gun: 12\n",
      "bang: 10\n",
      "shoot: 10\n",
      "warm: 7\n",
      "mother: 6\n",
      "superior: 6\n",
      "jumped: 6\n",
      "happiness: 6\n",
      "mama: 3\n",
      "ooh: 3\n",
      "\n",
      "Palabras más comunes en la canción 'Martha My Dear':\n",
      "martha: 5\n",
      "silly: 5\n",
      "dear: 4\n",
      "girl: 4\n",
      "look: 3\n",
      "around: 3\n",
      "good: 3\n",
      "please: 2\n",
      "love: 2\n",
      "forget: 2\n",
      "\n",
      "Palabras más comunes en la canción 'I’m So Tired':\n",
      "know: 8\n",
      "tired: 6\n",
      "mind: 6\n",
      "cant: 4\n",
      "id: 4\n",
      "give: 4\n",
      "everything: 4\n",
      "ive: 4\n",
      "got: 4\n",
      "little: 4\n",
      "\n",
      "Palabras más comunes en la canción 'Blackbird':\n",
      "blackbird: 7\n",
      "fly: 6\n",
      "night: 5\n",
      "waiting: 5\n",
      "moment: 5\n",
      "arise: 4\n",
      "singing: 3\n",
      "dead: 3\n",
      "take: 3\n",
      "learn: 3\n",
      "\n",
      "Palabras más comunes en la canción 'Piggies':\n",
      "piggies: 5\n",
      "dirt: 3\n",
      "around: 3\n",
      "seen: 2\n",
      "little: 2\n",
      "life: 2\n",
      "always: 2\n",
      "play: 2\n",
      "bigger: 2\n",
      "shirts: 2\n",
      "\n",
      "Palabras más comunes en la canción 'Rocky Raccoon':\n",
      "rocky: 14\n",
      "dan: 11\n",
      "dooroododo: 10\n",
      "dododo: 9\n",
      "dodooroododo: 8\n",
      "dodo: 8\n",
      "boy: 5\n",
      "said: 4\n",
      "room: 4\n",
      "raccoon: 3\n",
      "\n",
      "Palabras más comunes en la canción 'Don’t Pass Me By':\n",
      "make: 9\n",
      "pass: 6\n",
      "know: 6\n",
      "love: 5\n",
      "see: 5\n",
      "cry: 5\n",
      "waiting: 3\n",
      "hear: 3\n",
      "blue: 3\n",
      "cause: 3\n",
      "\n",
      "Palabras más comunes en la canción 'Why Don’t We Do It in the Road?':\n",
      "road: 15\n",
      "mm: 3\n",
      "one: 3\n",
      "watching: 3\n",
      "ddo: 2\n",
      "ah: 1\n",
      "\n",
      "Palabras más comunes en la canción 'I Will':\n",
      "mm: 8\n",
      "da: 7\n",
      "love: 5\n",
      "know: 2\n",
      "forever: 2\n",
      "knows: 1\n",
      "long: 1\n",
      "ive: 1\n",
      "loved: 1\n",
      "still: 1\n",
      "\n",
      "Palabras más comunes en la canción 'Julia':\n",
      "julia: 13\n",
      "sing: 6\n",
      "song: 5\n",
      "love: 5\n",
      "calls: 3\n",
      "hmm: 3\n",
      "say: 2\n",
      "touch: 2\n",
      "half: 1\n",
      "meaningless: 1\n",
      "\n",
      "Palabras más comunes en la canción 'Birthday':\n",
      "birthday: 16\n",
      "party: 6\n",
      "dance: 6\n",
      "say: 4\n",
      "would: 4\n",
      "like: 4\n",
      "yes: 3\n",
      "goin: 3\n",
      "well: 2\n",
      "gonna: 2\n",
      "\n",
      "Palabras más comunes en la canción 'Yer Blues':\n",
      "want: 8\n",
      "die: 8\n",
      "know: 6\n",
      "aint: 5\n",
      "dead: 5\n",
      "already: 5\n",
      "woo: 5\n",
      "girl: 5\n",
      "reason: 5\n",
      "lonely: 4\n",
      "\n",
      "Palabras más comunes en la canción 'Mother Nature’s Son':\n",
      "dodododo: 4\n",
      "mother: 3\n",
      "natures: 3\n",
      "son: 3\n",
      "dododododo: 3\n",
      "mmmmmmmmmmmmmmm: 2\n",
      "born: 1\n",
      "poor: 1\n",
      "young: 1\n",
      "country: 1\n",
      "\n",
      "Palabras más comunes en la canción 'Everybody’s Got Something to Hide Except Me and My Monkey':\n",
      "come: 24\n",
      "easy: 12\n",
      "take: 7\n",
      "joy: 6\n",
      "lets: 6\n",
      "woo: 5\n",
      "make: 5\n",
      "everybodys: 3\n",
      "got: 3\n",
      "something: 3\n",
      "\n",
      "Palabras más comunes en la canción 'Sexy Sadie':\n",
      "sexy: 15\n",
      "sadie: 15\n",
      "everyone: 4\n",
      "made: 3\n",
      "fool: 3\n",
      "world: 3\n",
      "waiting: 3\n",
      "greatest: 3\n",
      "however: 3\n",
      "big: 3\n",
      "\n",
      "Palabras más comunes en la canción 'Helter Skelter':\n",
      "tell: 10\n",
      "helterskelter: 10\n",
      "coming: 5\n",
      "fast: 5\n",
      "get: 4\n",
      "bottom: 4\n",
      "go: 4\n",
      "well: 4\n",
      "look: 4\n",
      "want: 3\n",
      "\n",
      "Palabras más comunes en la canción 'Long, Long, Long':\n",
      "long: 6\n",
      "love: 3\n",
      "time: 2\n",
      "ever: 2\n",
      "many: 2\n",
      "tears: 2\n",
      "could: 1\n",
      "lost: 1\n",
      "loved: 1\n",
      "took: 1\n",
      "\n",
      "Palabras más comunes en la canción 'Revolution 1':\n",
      "right: 19\n",
      "know: 16\n",
      "gonna: 10\n",
      "well: 7\n",
      "change: 4\n",
      "say: 3\n",
      "tell: 3\n",
      "want: 2\n",
      "wanna: 2\n",
      "world: 2\n",
      "\n",
      "Palabras más comunes en la canción 'Honey Pie':\n",
      "honey: 8\n",
      "pie: 8\n",
      "come: 6\n",
      "back: 3\n",
      "like: 3\n",
      "kind: 3\n",
      "tee: 3\n",
      "making: 2\n",
      "crazy: 2\n",
      "love: 2\n",
      "\n",
      "Palabras más comunes en la canción 'Savoy Truffle':\n",
      "know: 5\n",
      "pulled: 5\n",
      "savoy: 5\n",
      "truffle: 4\n",
      "yes: 3\n",
      "creme: 2\n",
      "tangerine: 2\n",
      "montelimar: 2\n",
      "ginger: 2\n",
      "sling: 2\n",
      "\n",
      "Palabras más comunes en la canción 'Cry Baby Cry':\n",
      "cry: 26\n",
      "baby: 12\n",
      "make: 7\n",
      "mother: 7\n",
      "sigh: 7\n",
      "old: 7\n",
      "enough: 7\n",
      "know: 7\n",
      "better: 7\n",
      "take: 7\n",
      "\n",
      "Palabras más comunes en la canción 'Revolution 9':\n",
      "number: 103\n",
      "nine: 103\n",
      "right: 8\n",
      "like: 4\n",
      "block: 4\n",
      "kick: 4\n",
      "id: 3\n",
      "time: 3\n",
      "went: 3\n",
      "nothing: 3\n",
      "\n",
      "Palabras más comunes en la canción 'Good Night':\n",
      "sweet: 12\n",
      "dream: 11\n",
      "good: 10\n",
      "night: 10\n",
      "dreams: 9\n",
      "sleep: 6\n",
      "tight: 5\n",
      "close: 4\n",
      "sun: 2\n",
      "turns: 2\n"
     ]
    }
   ],
   "source": [
    "from collections import Counter\n",
    "word_freq = Counter()\n",
    "\n",
    "lyric['word_count'] = lyric['without_stop_words'].apply(Counter)\n",
    "\n",
    "for index, row in lyric.iterrows():\n",
    "    print(f\"Palabras más comunes en la canción '{row['Título']}':\")\n",
    "    word_freq = row['word_count']\n",
    "    most_common_words = word_freq.most_common(10)  # Cambia 10 por el número deseado de palabras más comunes\n",
    "    for word, freq in most_common_words:\n",
    "        print(f\"{word}: {freq}\")\n",
    "    print()"
   ],
   "metadata": {
    "collapsed": false,
    "ExecuteTime": {
     "end_time": "2024-03-02T06:04:29.993855Z",
     "start_time": "2024-03-02T06:04:29.977183Z"
    }
   },
   "id": "87ffc2102d0e0047",
   "execution_count": 38
  }
 ],
 "metadata": {
  "kernelspec": {
   "display_name": "Python 3",
   "language": "python",
   "name": "python3"
  },
  "language_info": {
   "codemirror_mode": {
    "name": "ipython",
    "version": 2
   },
   "file_extension": ".py",
   "mimetype": "text/x-python",
   "name": "python",
   "nbconvert_exporter": "python",
   "pygments_lexer": "ipython2",
   "version": "2.7.6"
  }
 },
 "nbformat": 4,
 "nbformat_minor": 5
}
