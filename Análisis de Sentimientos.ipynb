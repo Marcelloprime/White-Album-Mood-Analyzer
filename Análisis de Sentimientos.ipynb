{
 "cells": [
  {
   "cell_type": "markdown",
   "source": [
    "# Análisis de sentimientos de White Album\n",
    "\n",
    "En esta ocasión, nos tocó hacer un análisis de sentimientos del famoso álbum \"The Beatles\" de la banda británica con el mismo nombre.\n",
    "Bajo las tensiones de unos beatles ya forjando distintos caminos, la aparición de Yoko Ono y la influencia de la cultura hindú nace el conocido \"White Album\", mostrándo el lado más creativo y vanguardista de cada Beatle por separado con la química instrumental que los caracteriza.\n",
    "\n",
    "En el presente proyecto, se empezará desde la extracción de datos hasta la muestra gráfica e identificación de las palabras."
   ],
   "metadata": {
    "collapsed": false
   },
   "id": "4f50a158d34f73c"
  },
  {
   "cell_type": "markdown",
   "source": [
    "## Web Scraping: Canción por Canción\n",
    "\n",
    "El álbum consta de 30 canciones compuestas por cada miembro de la banda: John, Paul, George y Ringo.\n",
    "Para hacer el web scraping, utilizaremos la famosa web Genius.\n",
    "Lo primero que haremos es establecer conexión con la página para obtener el HTML."
   ],
   "metadata": {
    "collapsed": false
   },
   "id": "d140a40512a89692"
  },
  {
   "cell_type": "markdown",
   "source": [
    "![\"The Beatles\"](https://upload.wikimedia.org/wikipedia/en/f/f2/White_album_front2.jpg)"
   ],
   "metadata": {
    "collapsed": false
   },
   "id": "2ab02e943d0472d7"
  },
  {
   "cell_type": "code",
   "execution_count": 1,
   "outputs": [],
   "source": [
    "import pandas as pd\n",
    "import requests\n",
    "from bs4 import BeautifulSoup\n",
    "\n",
    "url = 'https://genius.com/albums/The-beatles/The-beatles-white-album'\n",
    "response = requests.get(url)\n",
    "soup = BeautifulSoup(response.text, 'html.parser')\n"
   ],
   "metadata": {
    "collapsed": false,
    "ExecuteTime": {
     "end_time": "2024-02-26T02:34:34.258754Z",
     "start_time": "2024-02-26T02:34:32.375273700Z"
    }
   },
   "id": "dcfa22e12e8705ec"
  },
  {
   "cell_type": "markdown",
   "source": [
    "Luego de establecer la conexión, obtenemos los enlaces de cada canción."
   ],
   "metadata": {
    "collapsed": false
   },
   "id": "5ab4700f59bd42a1"
  },
  {
   "cell_type": "code",
   "execution_count": 2,
   "outputs": [],
   "source": [
    "links = soup.find_all('a',class_ = \"u-display_block\", href=True)\n",
    "enlaces = []\n",
    "for link in links:\n",
    "    enlaces.append(link['href'])"
   ],
   "metadata": {
    "collapsed": false,
    "ExecuteTime": {
     "end_time": "2024-02-26T02:34:34.266698500Z",
     "start_time": "2024-02-26T02:34:34.260749600Z"
    }
   },
   "id": "c5fe72ae80c9ddbf"
  },
  {
   "cell_type": "code",
   "execution_count": 3,
   "outputs": [
    {
     "data": {
      "text/plain": "['https://genius.com/The-beatles-back-in-the-ussr-lyrics',\n 'https://genius.com/The-beatles-dear-prudence-lyrics',\n 'https://genius.com/The-beatles-glass-onion-lyrics',\n 'https://genius.com/The-beatles-ob-la-di-ob-la-da-lyrics',\n 'https://genius.com/The-beatles-wild-honey-pie-lyrics',\n 'https://genius.com/The-beatles-the-continuing-story-of-bungalow-bill-lyrics',\n 'https://genius.com/The-beatles-while-my-guitar-gently-weeps-lyrics',\n 'https://genius.com/The-beatles-happiness-is-a-warm-gun-lyrics',\n 'https://genius.com/The-beatles-martha-my-dear-lyrics',\n 'https://genius.com/The-beatles-im-so-tired-lyrics',\n 'https://genius.com/The-beatles-blackbird-lyrics',\n 'https://genius.com/The-beatles-piggies-lyrics',\n 'https://genius.com/The-beatles-rocky-raccoon-lyrics',\n 'https://genius.com/The-beatles-dont-pass-me-by-lyrics',\n 'https://genius.com/The-beatles-why-dont-we-do-it-in-the-road-lyrics',\n 'https://genius.com/The-beatles-i-will-lyrics',\n 'https://genius.com/The-beatles-julia-lyrics',\n 'https://genius.com/The-beatles-birthday-lyrics',\n 'https://genius.com/The-beatles-yer-blues-lyrics',\n 'https://genius.com/The-beatles-mother-natures-son-lyrics',\n 'https://genius.com/The-beatles-everybodys-got-something-to-hide-except-me-and-my-monkey-lyrics',\n 'https://genius.com/The-beatles-sexy-sadie-lyrics',\n 'https://genius.com/The-beatles-helter-skelter-lyrics',\n 'https://genius.com/The-beatles-long-long-long-lyrics',\n 'https://genius.com/The-beatles-revolution-1-lyrics',\n 'https://genius.com/The-beatles-honey-pie-lyrics',\n 'https://genius.com/The-beatles-savoy-truffle-lyrics',\n 'https://genius.com/The-beatles-cry-baby-cry-lyrics',\n 'https://genius.com/The-beatles-revolution-9-lyrics',\n 'https://genius.com/The-beatles-good-night-lyrics']"
     },
     "execution_count": 3,
     "metadata": {},
     "output_type": "execute_result"
    }
   ],
   "source": [
    "enlaces"
   ],
   "metadata": {
    "collapsed": false,
    "ExecuteTime": {
     "end_time": "2024-02-26T02:34:34.274067500Z",
     "start_time": "2024-02-26T02:34:34.267696400Z"
    }
   },
   "id": "b71a8d51069b366c"
  },
  {
   "cell_type": "markdown",
   "source": [
    "Después de tener todos los enlaces, definiremos la función `lyrics()`, la cual hará un web scraping de cada enlace obtenido anteriormente para extraer el nombre y la letra de cada canción en minúscula y listo para poder analizar las palabras."
   ],
   "metadata": {
    "collapsed": false
   },
   "id": "40d56798b51bc10a"
  },
  {
   "cell_type": "code",
   "execution_count": 4,
   "outputs": [],
   "source": [
    "import re\n",
    "import string\n",
    "\n",
    "def lyrics(urls):\n",
    "    df = []\n",
    "    ls = []\n",
    "    titles = []\n",
    "    for url in urls:\n",
    "        response = requests.get(url)\n",
    "        soup = BeautifulSoup(response.text, 'html.parser')\n",
    "        text = soup.find_all('div', attrs= {\"class\":\"Lyrics__Container-sc-1ynbvzw-1 kUgSbL\"})\n",
    "        title = soup.find('span',attrs={'class':'SongHeaderdesktop__HiddenMask-sc-1effuo1-11 iMpFIj'}).get_text()\n",
    "        lyric = []\n",
    "        for t in text:\n",
    "            y = t.get_text(' ').lower()\n",
    "            lyric.append(re.sub(r'\\[.*?\\]', '', y))\n",
    "        lyric_s = [ly.replace('\\u200b', '').translate(str.maketrans('', '', string.punctuation)).replace('  ',' ').strip() for ly in lyric]\n",
    "        df.append(lyric_s)\n",
    "        titles.append(title)\n",
    "    for a in df:\n",
    "        ls.append(''.join(a))\n",
    "    data = pd.DataFrame({'Título':titles, 'Letra':ls})\n",
    "     \n",
    "    return data\n",
    "        "
   ],
   "metadata": {
    "collapsed": false,
    "ExecuteTime": {
     "end_time": "2024-02-26T02:34:34.283266900Z",
     "start_time": "2024-02-26T02:34:34.275064900Z"
    }
   },
   "id": "91719b84713c807c"
  },
  {
   "cell_type": "code",
   "execution_count": 5,
   "outputs": [],
   "source": [
    "lyric = lyrics(enlaces) # Almacenamos los resultados\n",
    "lyric.to_csv('lyrics_white_album.csv') # Exportamos el CSV"
   ],
   "metadata": {
    "collapsed": false,
    "ExecuteTime": {
     "end_time": "2024-02-26T02:35:34.629486Z",
     "start_time": "2024-02-26T02:34:34.283266900Z"
    }
   },
   "id": "c272e1b24c83dcd8"
  },
  {
   "cell_type": "code",
   "execution_count": 6,
   "outputs": [
    {
     "data": {
      "text/plain": "                                               Título  \\\n0                                Back in the U.S.S.R.   \n1                                       Dear Prudence   \n2                                         Glass Onion   \n3                                  Ob-La-Di, Ob-La-Da   \n4                                      Wild Honey Pie   \n5               The Continuing Story of Bungalow Bill   \n6                        While My Guitar Gently Weeps   \n7                             Happiness is a Warm Gun   \n8                                      Martha My Dear   \n9                                        I’m So Tired   \n10                                          Blackbird   \n11                                            Piggies   \n12                                      Rocky Raccoon   \n13                                   Don’t Pass Me By   \n14                    Why Don’t We Do It in the Road?   \n15                                             I Will   \n16                                              Julia   \n17                                           Birthday   \n18                                          Yer Blues   \n19                                Mother Nature’s Son   \n20  Everybody’s Got Something to Hide Except Me an...   \n21                                         Sexy Sadie   \n22                                     Helter Skelter   \n23                                   Long, Long, Long   \n24                                       Revolution 1   \n25                                          Honey Pie   \n26                                      Savoy Truffle   \n27                                       Cry Baby Cry   \n28                                       Revolution 9   \n29                                         Good Night   \n\n                                                Letra  \n0   oh flew in from miami beach boac didnt get to ...  \n1   dear prudence wont you come out to play dear p...  \n2   i told you about strawberry fields you know th...  \n3   desmond has a barrow in the marketplace molly ...  \n4   honey pie honey pie  honey pie honey pie  hone...  \n5   hey bungalow bill what did you kill bungalow b...  \n6   i look at you all see the love there thats sle...  \n7   shes not a girl who misses much do do do do do...  \n8   martha my dear though i spend my days in conve...  \n9   im so tired i havent slept a wink im so tired ...  \n10  blackbird singing in the dead of night take th...  \n11  have you seen the little piggies crawling in t...  \n12  now somewhere in the black mining hills of dak...  \n13  i listen for your footsteps coming up the driv...  \n14  why dont we ddo it in the road mm why dont we ...  \n15  who knows how long ive loved you you know i lo...  \n16  half of what i say is meaningless but i say it...  \n17  they say its your birthday well its my birthda...  \n18  two three yes im lonely want to die yes im lon...  \n19  born a poor young country boy mother natures s...  \n20  come on come on come on come on come on its su...  \n21  sexy sadie what have you done you made a fool ...  \n22  when i get to the bottom i go back to the top ...  \n23  its been a long long long time how could i eve...  \n24  take two okay you say you want a revolution we...  \n25  she was a working girl north of england way no...  \n26  creme tangerine and montelimar a ginger sling ...  \n27  cry baby cry make your mother sigh shes old en...  \n28  bottle of claret for you if id realised id for...  \n29  now its time to say good night good night slee...  ",
      "text/html": "<div>\n<style scoped>\n    .dataframe tbody tr th:only-of-type {\n        vertical-align: middle;\n    }\n\n    .dataframe tbody tr th {\n        vertical-align: top;\n    }\n\n    .dataframe thead th {\n        text-align: right;\n    }\n</style>\n<table border=\"1\" class=\"dataframe\">\n  <thead>\n    <tr style=\"text-align: right;\">\n      <th></th>\n      <th>Título</th>\n      <th>Letra</th>\n    </tr>\n  </thead>\n  <tbody>\n    <tr>\n      <th>0</th>\n      <td>Back in the U.S.S.R.</td>\n      <td>oh flew in from miami beach boac didnt get to ...</td>\n    </tr>\n    <tr>\n      <th>1</th>\n      <td>Dear Prudence</td>\n      <td>dear prudence wont you come out to play dear p...</td>\n    </tr>\n    <tr>\n      <th>2</th>\n      <td>Glass Onion</td>\n      <td>i told you about strawberry fields you know th...</td>\n    </tr>\n    <tr>\n      <th>3</th>\n      <td>Ob-La-Di, Ob-La-Da</td>\n      <td>desmond has a barrow in the marketplace molly ...</td>\n    </tr>\n    <tr>\n      <th>4</th>\n      <td>Wild Honey Pie</td>\n      <td>honey pie honey pie  honey pie honey pie  hone...</td>\n    </tr>\n    <tr>\n      <th>5</th>\n      <td>The Continuing Story of Bungalow Bill</td>\n      <td>hey bungalow bill what did you kill bungalow b...</td>\n    </tr>\n    <tr>\n      <th>6</th>\n      <td>While My Guitar Gently Weeps</td>\n      <td>i look at you all see the love there thats sle...</td>\n    </tr>\n    <tr>\n      <th>7</th>\n      <td>Happiness is a Warm Gun</td>\n      <td>shes not a girl who misses much do do do do do...</td>\n    </tr>\n    <tr>\n      <th>8</th>\n      <td>Martha My Dear</td>\n      <td>martha my dear though i spend my days in conve...</td>\n    </tr>\n    <tr>\n      <th>9</th>\n      <td>I’m So Tired</td>\n      <td>im so tired i havent slept a wink im so tired ...</td>\n    </tr>\n    <tr>\n      <th>10</th>\n      <td>Blackbird</td>\n      <td>blackbird singing in the dead of night take th...</td>\n    </tr>\n    <tr>\n      <th>11</th>\n      <td>Piggies</td>\n      <td>have you seen the little piggies crawling in t...</td>\n    </tr>\n    <tr>\n      <th>12</th>\n      <td>Rocky Raccoon</td>\n      <td>now somewhere in the black mining hills of dak...</td>\n    </tr>\n    <tr>\n      <th>13</th>\n      <td>Don’t Pass Me By</td>\n      <td>i listen for your footsteps coming up the driv...</td>\n    </tr>\n    <tr>\n      <th>14</th>\n      <td>Why Don’t We Do It in the Road?</td>\n      <td>why dont we ddo it in the road mm why dont we ...</td>\n    </tr>\n    <tr>\n      <th>15</th>\n      <td>I Will</td>\n      <td>who knows how long ive loved you you know i lo...</td>\n    </tr>\n    <tr>\n      <th>16</th>\n      <td>Julia</td>\n      <td>half of what i say is meaningless but i say it...</td>\n    </tr>\n    <tr>\n      <th>17</th>\n      <td>Birthday</td>\n      <td>they say its your birthday well its my birthda...</td>\n    </tr>\n    <tr>\n      <th>18</th>\n      <td>Yer Blues</td>\n      <td>two three yes im lonely want to die yes im lon...</td>\n    </tr>\n    <tr>\n      <th>19</th>\n      <td>Mother Nature’s Son</td>\n      <td>born a poor young country boy mother natures s...</td>\n    </tr>\n    <tr>\n      <th>20</th>\n      <td>Everybody’s Got Something to Hide Except Me an...</td>\n      <td>come on come on come on come on come on its su...</td>\n    </tr>\n    <tr>\n      <th>21</th>\n      <td>Sexy Sadie</td>\n      <td>sexy sadie what have you done you made a fool ...</td>\n    </tr>\n    <tr>\n      <th>22</th>\n      <td>Helter Skelter</td>\n      <td>when i get to the bottom i go back to the top ...</td>\n    </tr>\n    <tr>\n      <th>23</th>\n      <td>Long, Long, Long</td>\n      <td>its been a long long long time how could i eve...</td>\n    </tr>\n    <tr>\n      <th>24</th>\n      <td>Revolution 1</td>\n      <td>take two okay you say you want a revolution we...</td>\n    </tr>\n    <tr>\n      <th>25</th>\n      <td>Honey Pie</td>\n      <td>she was a working girl north of england way no...</td>\n    </tr>\n    <tr>\n      <th>26</th>\n      <td>Savoy Truffle</td>\n      <td>creme tangerine and montelimar a ginger sling ...</td>\n    </tr>\n    <tr>\n      <th>27</th>\n      <td>Cry Baby Cry</td>\n      <td>cry baby cry make your mother sigh shes old en...</td>\n    </tr>\n    <tr>\n      <th>28</th>\n      <td>Revolution 9</td>\n      <td>bottle of claret for you if id realised id for...</td>\n    </tr>\n    <tr>\n      <th>29</th>\n      <td>Good Night</td>\n      <td>now its time to say good night good night slee...</td>\n    </tr>\n  </tbody>\n</table>\n</div>"
     },
     "execution_count": 6,
     "metadata": {},
     "output_type": "execute_result"
    }
   ],
   "source": [
    "lyric"
   ],
   "metadata": {
    "collapsed": false,
    "ExecuteTime": {
     "end_time": "2024-02-26T02:35:34.649973900Z",
     "start_time": "2024-02-26T02:35:34.630483Z"
    }
   },
   "id": "dca84b09fc154e25"
  },
  {
   "cell_type": "markdown",
   "source": [
    "## Creación de tokens\n",
    "\n",
    "Luego de terminar el proceso de extracción y limpieza de datos, debemos tokenizar cada texto para poder hacer un text mining, este consiste en separar las palabras para poder analizar estas."
   ],
   "metadata": {
    "collapsed": false
   },
   "id": "d11201bb18669c33"
  },
  {
   "cell_type": "markdown",
   "source": [],
   "metadata": {
    "collapsed": false
   },
   "id": "c378708b41c75fc"
  },
  {
   "cell_type": "code",
   "execution_count": 7,
   "outputs": [
    {
     "data": {
      "text/plain": "                 Título                                              Letra  \\\n0  Back in the U.S.S.R.  oh flew in from miami beach boac didnt get to ...   \n1         Dear Prudence  dear prudence wont you come out to play dear p...   \n2           Glass Onion  i told you about strawberry fields you know th...   \n3    Ob-La-Di, Ob-La-Da  desmond has a barrow in the marketplace molly ...   \n4        Wild Honey Pie  honey pie honey pie  honey pie honey pie  hone...   \n\n                                              Tokens  \n0  [oh, flew, in, from, miami, beach, boac, didnt...  \n1  [dear, prudence, wont, you, come, out, to, pla...  \n2  [i, told, you, about, strawberry, fields, you,...  \n3  [desmond, has, a, barrow, in, the, marketplace...  \n4  [honey, pie, honey, pie, honey, pie, honey, pi...  ",
      "text/html": "<div>\n<style scoped>\n    .dataframe tbody tr th:only-of-type {\n        vertical-align: middle;\n    }\n\n    .dataframe tbody tr th {\n        vertical-align: top;\n    }\n\n    .dataframe thead th {\n        text-align: right;\n    }\n</style>\n<table border=\"1\" class=\"dataframe\">\n  <thead>\n    <tr style=\"text-align: right;\">\n      <th></th>\n      <th>Título</th>\n      <th>Letra</th>\n      <th>Tokens</th>\n    </tr>\n  </thead>\n  <tbody>\n    <tr>\n      <th>0</th>\n      <td>Back in the U.S.S.R.</td>\n      <td>oh flew in from miami beach boac didnt get to ...</td>\n      <td>[oh, flew, in, from, miami, beach, boac, didnt...</td>\n    </tr>\n    <tr>\n      <th>1</th>\n      <td>Dear Prudence</td>\n      <td>dear prudence wont you come out to play dear p...</td>\n      <td>[dear, prudence, wont, you, come, out, to, pla...</td>\n    </tr>\n    <tr>\n      <th>2</th>\n      <td>Glass Onion</td>\n      <td>i told you about strawberry fields you know th...</td>\n      <td>[i, told, you, about, strawberry, fields, you,...</td>\n    </tr>\n    <tr>\n      <th>3</th>\n      <td>Ob-La-Di, Ob-La-Da</td>\n      <td>desmond has a barrow in the marketplace molly ...</td>\n      <td>[desmond, has, a, barrow, in, the, marketplace...</td>\n    </tr>\n    <tr>\n      <th>4</th>\n      <td>Wild Honey Pie</td>\n      <td>honey pie honey pie  honey pie honey pie  hone...</td>\n      <td>[honey, pie, honey, pie, honey, pie, honey, pi...</td>\n    </tr>\n  </tbody>\n</table>\n</div>"
     },
     "execution_count": 7,
     "metadata": {},
     "output_type": "execute_result"
    }
   ],
   "source": [
    "lyric['Tokens'] = [letra.split() for letra in lyric['Letra']]\n",
    "lyric.head(5)"
   ],
   "metadata": {
    "collapsed": false,
    "ExecuteTime": {
     "end_time": "2024-02-26T02:35:34.662452600Z",
     "start_time": "2024-02-26T02:35:34.642963600Z"
    }
   },
   "id": "c99a2c0e4034e698"
  },
  {
   "cell_type": "markdown",
   "source": [
    "## Obteniendo las Stopwords\n",
    "\n",
    "Tras haber obtenido los tokens, podemos observar que hay varias palabras que resultarán inútiles para el análisis, por ejemplo: 'and', 'oh', 'a', etc.\n",
    "Para entender mejor, las stopwords son aquellas palabras que son artículos, preposiciones o pronombres y no suman ninguna información esencial en el análisis.\n",
    "\n",
    "Gracias al paquete NLTK, tenemos stopwords para poder trabajar con textos en inglés."
   ],
   "metadata": {
    "collapsed": false
   },
   "id": "f9d9e6cce543fe03"
  },
  {
   "cell_type": "code",
   "execution_count": null,
   "outputs": [],
   "source": [
    "import nltk\n",
    "nltk.download('stopwords') # Descargamos las stopwords"
   ],
   "metadata": {
    "collapsed": false
   },
   "id": "dbce77943a3f12f3"
  },
  {
   "cell_type": "code",
   "execution_count": 9,
   "outputs": [],
   "source": [
    "from nltk.corpus import stopwords\n",
    "\n",
    "# Obtén las palabras vacías en inglés\n",
    "stop_words = list(stopwords.words('english'))\n",
    "stop_words = [re.sub(\"'\", '', x) for x in stop_words] # Debido a que quitamos todo signo de puntuación en las letras, acá tambien lo hacemos\n",
    "stop_words.extend(['oh','us','im','hey','yeah']) # Se agregan algunas stopwords según el contexto"
   ],
   "metadata": {
    "collapsed": false,
    "ExecuteTime": {
     "end_time": "2024-02-26T02:35:36.277741500Z",
     "start_time": "2024-02-26T02:35:36.254674900Z"
    }
   },
   "id": "fb6e593ae9455e1"
  },
  {
   "cell_type": "code",
   "execution_count": 10,
   "outputs": [
    {
     "data": {
      "text/plain": "                 Título                                              Letra  \\\n0  Back in the U.S.S.R.  oh flew in from miami beach boac didnt get to ...   \n1         Dear Prudence  dear prudence wont you come out to play dear p...   \n2           Glass Onion  i told you about strawberry fields you know th...   \n3    Ob-La-Di, Ob-La-Da  desmond has a barrow in the marketplace molly ...   \n4        Wild Honey Pie  honey pie honey pie  honey pie honey pie  hone...   \n\n                                              Tokens  \\\n0  [oh, flew, in, from, miami, beach, boac, didnt...   \n1  [dear, prudence, wont, you, come, out, to, pla...   \n2  [i, told, you, about, strawberry, fields, you,...   \n3  [desmond, has, a, barrow, in, the, marketplace...   \n4  [honey, pie, honey, pie, honey, pie, honey, pi...   \n\n                                  without_stop_words  \n0  [flew, miami, beach, boac, get, bed, last, nig...  \n1  [dear, prudence, come, play, dear, prudence, g...  \n2  [told, strawberry, fields, know, place, nothin...  \n3  [desmond, barrow, marketplace, molly, singer, ...  \n4  [honey, pie, honey, pie, honey, pie, honey, pi...  ",
      "text/html": "<div>\n<style scoped>\n    .dataframe tbody tr th:only-of-type {\n        vertical-align: middle;\n    }\n\n    .dataframe tbody tr th {\n        vertical-align: top;\n    }\n\n    .dataframe thead th {\n        text-align: right;\n    }\n</style>\n<table border=\"1\" class=\"dataframe\">\n  <thead>\n    <tr style=\"text-align: right;\">\n      <th></th>\n      <th>Título</th>\n      <th>Letra</th>\n      <th>Tokens</th>\n      <th>without_stop_words</th>\n    </tr>\n  </thead>\n  <tbody>\n    <tr>\n      <th>0</th>\n      <td>Back in the U.S.S.R.</td>\n      <td>oh flew in from miami beach boac didnt get to ...</td>\n      <td>[oh, flew, in, from, miami, beach, boac, didnt...</td>\n      <td>[flew, miami, beach, boac, get, bed, last, nig...</td>\n    </tr>\n    <tr>\n      <th>1</th>\n      <td>Dear Prudence</td>\n      <td>dear prudence wont you come out to play dear p...</td>\n      <td>[dear, prudence, wont, you, come, out, to, pla...</td>\n      <td>[dear, prudence, come, play, dear, prudence, g...</td>\n    </tr>\n    <tr>\n      <th>2</th>\n      <td>Glass Onion</td>\n      <td>i told you about strawberry fields you know th...</td>\n      <td>[i, told, you, about, strawberry, fields, you,...</td>\n      <td>[told, strawberry, fields, know, place, nothin...</td>\n    </tr>\n    <tr>\n      <th>3</th>\n      <td>Ob-La-Di, Ob-La-Da</td>\n      <td>desmond has a barrow in the marketplace molly ...</td>\n      <td>[desmond, has, a, barrow, in, the, marketplace...</td>\n      <td>[desmond, barrow, marketplace, molly, singer, ...</td>\n    </tr>\n    <tr>\n      <th>4</th>\n      <td>Wild Honey Pie</td>\n      <td>honey pie honey pie  honey pie honey pie  hone...</td>\n      <td>[honey, pie, honey, pie, honey, pie, honey, pi...</td>\n      <td>[honey, pie, honey, pie, honey, pie, honey, pi...</td>\n    </tr>\n  </tbody>\n</table>\n</div>"
     },
     "execution_count": 10,
     "metadata": {},
     "output_type": "execute_result"
    }
   ],
   "source": [
    "def eliminar_stopwords(lista): # Definimos la función 'eliminar_stopwords'\n",
    "    return list(filter(lambda x: x not in stop_words, lista))\n",
    "\n",
    "# Eliminar las stopwords de cada lista\n",
    "lyric['without_stop_words'] = list(map(eliminar_stopwords, lyric['Tokens']))\n",
    "lyric.head(5)"
   ],
   "metadata": {
    "collapsed": false,
    "ExecuteTime": {
     "end_time": "2024-02-26T02:35:36.278737700Z",
     "start_time": "2024-02-26T02:35:36.260834800Z"
    }
   },
   "id": "200ef6033190b787"
  }
 ],
 "metadata": {
  "kernelspec": {
   "display_name": "Python 3",
   "language": "python",
   "name": "python3"
  },
  "language_info": {
   "codemirror_mode": {
    "name": "ipython",
    "version": 2
   },
   "file_extension": ".py",
   "mimetype": "text/x-python",
   "name": "python",
   "nbconvert_exporter": "python",
   "pygments_lexer": "ipython2",
   "version": "2.7.6"
  }
 },
 "nbformat": 4,
 "nbformat_minor": 5
}
